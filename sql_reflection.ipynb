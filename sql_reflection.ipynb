{
 "cells": [
  {
   "cell_type": "code",
   "execution_count": 28,
   "metadata": {},
   "outputs": [],
   "source": [
    "from sqlalchemy import *\n",
    "from sqlalchemy.orm import create_session\n",
    "from sqlalchemy.ext.declarative import declarative_base"
   ]
  },
  {
   "cell_type": "code",
   "execution_count": 29,
   "metadata": {},
   "outputs": [],
   "source": [
    "import pandas as pd\n",
    "import numpy as np"
   ]
  },
  {
   "cell_type": "code",
   "execution_count": 34,
   "metadata": {},
   "outputs": [],
   "source": [
    "#Create and engine and get the metadata\n",
    "Base = declarative_base()\n",
    "engine = create_engine('sqlite:///GoBike.sqlite')\n",
    "metadata = MetaData(bind=engine)"
   ]
  },
  {
   "cell_type": "code",
   "execution_count": 36,
   "metadata": {},
   "outputs": [],
   "source": [
    "#Reflect each database table we need to use, using metadata\n",
    "class Station(Base):\n",
    "    __table__ = Table('station', metadata, autoload=True)\n",
    "\n",
    "class Rider(Base):\n",
    "    __table__ = Table('rider', metadata, autoload=True)"
   ]
  },
  {
   "cell_type": "code",
   "execution_count": 41,
   "metadata": {},
   "outputs": [],
   "source": [
    "#Create a session to use the tables    \n",
    "from sqlalchemy.orm import Session\n",
    "\n",
    "session = Session(bind=engine)"
   ]
  },
  {
   "cell_type": "code",
   "execution_count": 42,
   "metadata": {},
   "outputs": [
    {
     "data": {
      "text/plain": [
       "[]"
      ]
     },
     "execution_count": 42,
     "metadata": {},
     "output_type": "execute_result"
    }
   ],
   "source": [
    "#Here I will just query some data using my foreign key relation,  as you would\n",
    "#normally do if you had created a declarative data mode.\n",
    "#Note that not all test records have an author so I need to accomodate for Null records\n",
    "stationlist = session.query(Station).all()    \n",
    "\n",
    "# for test in testlist:\n",
    "#     testauthor = session.query(Users).filter_by(id=test.author_id).first()  \n",
    "#     if not testauthor:\n",
    "#         print \"Test Name: {}, No author recorded\".format(test.testname)\n",
    "#     else:\n",
    "#         print \"Test Name: {}, Test Author: {}\".format(test.testname, testauthor.fullname)\n",
    "\n",
    "for _row in stationlist:\n",
    "    print( _row.station_name)\n",
    "stationlist"
   ]
  },
  {
   "cell_type": "code",
   "execution_count": null,
   "metadata": {},
   "outputs": [],
   "source": []
  }
 ],
 "metadata": {
  "kernelspec": {
   "display_name": "Python3.6-Data",
   "language": "python",
   "name": "pythondata36"
  },
  "language_info": {
   "codemirror_mode": {
    "name": "ipython",
    "version": 3
   },
   "file_extension": ".py",
   "mimetype": "text/x-python",
   "name": "python",
   "nbconvert_exporter": "python",
   "pygments_lexer": "ipython3",
   "version": "3.6.5"
  }
 },
 "nbformat": 4,
 "nbformat_minor": 2
}
